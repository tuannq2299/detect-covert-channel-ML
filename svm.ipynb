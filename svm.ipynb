{
 "metadata": {
  "language_info": {
   "codemirror_mode": {
    "name": "ipython",
    "version": 3
   },
   "file_extension": ".py",
   "mimetype": "text/x-python",
   "name": "python",
   "nbconvert_exporter": "python",
   "pygments_lexer": "ipython3",
   "version": "3.9.1"
  },
  "orig_nbformat": 2,
  "kernelspec": {
   "name": "python391jvsc74a57bd0fe06f96167c4fc64a78c238d993189072a4e72b444216e36203d6f96126eaf0a",
   "display_name": "Python 3.9.1 64-bit"
  },
  "metadata": {
   "interpreter": {
    "hash": "fe06f96167c4fc64a78c238d993189072a4e72b444216e36203d6f96126eaf0a"
   }
  }
 },
 "nbformat": 4,
 "nbformat_minor": 2,
 "cells": [
  {
   "cell_type": "code",
   "execution_count": 20,
   "metadata": {},
   "outputs": [
    {
     "output_type": "stream",
     "name": "stdout",
     "text": [
      "   LABEL  ip.proto  ip.id  tcp.seq_raw  frame.len  frame.cap_len  \\\n",
      "0      1         6  13854   2475530204        101            101   \n",
      "1      0         6  29944   3776469750         82             66   \n",
      "2      1         6  24832   3189178368         56             56   \n",
      "3      1         6  30486   1082791781        166            166   \n",
      "4      1         6  45379   1854544011        116            116   \n",
      "\n",
      "   dns.qry.name  tcp.segment_data         data  \n",
      "0           0.0      5.408420e+83            0  \n",
      "1           0.0      0.000000e+00            0  \n",
      "2           0.0      0.000000e+00            0  \n",
      "3           0.0      0.000000e+00  2.3545E+240  \n",
      "4           0.0      0.000000e+00  9.1182E+119  \n",
      "C:\\Users\\Lenovo\\AppData\\Local\\Programs\\Python\\Python39\\lib\\site-packages\\numpy\\lib\\nanfunctions.py:1544: RuntimeWarning: overflow encountered in multiply\n",
      "  sqr = np.multiply(arr, arr, out=arr)\n"
     ]
    },
    {
     "output_type": "execute_result",
     "data": {
      "text/plain": [
       "SVC(kernel='linear')"
      ]
     },
     "metadata": {},
     "execution_count": 20
    }
   ],
   "source": [
    "# Support Vector Machine (SVM)\n",
    "\n",
    "# Importing the libraries\n",
    "import numpy as np\n",
    "import matplotlib.pyplot as plt\n",
    "import pandas as pd\n",
    "\n",
    "# Importing the dataset\n",
    "data_train = pd.read_csv('data_train.csv')\n",
    "data_test = pd.read_csv('data_test.csv')\n",
    "X_train = data_train.iloc[:, [1,2,3,4,5,6,7]].values\n",
    "y_train = data_train.iloc[:, 0].values \n",
    "\n",
    "X_test = data_test.iloc[:, [1,2,3,4,5,6,7]].values\n",
    "y_test = data_test.iloc[:, 0].values  \n",
    "\n",
    "print(data_test.head())\n",
    "# Splitting the dataset into the Training set and Test set\n",
    "# from sklearn.model_selection import train_test_split\n",
    "# X_train, X_test, y_train, y_test = train_test_split(X, y, test_size = 0.20, random_state = 0)\n",
    "# print(len(y_test))\n",
    "\n",
    "# Feature Scaling\n",
    "from sklearn.preprocessing import StandardScaler\n",
    "sc = StandardScaler()\n",
    "X_train = sc.fit_transform(X_train) # fit rate \n",
    "X_test = sc.transform(X_test)\n",
    "\n",
    "\n",
    "# # Training the SVM model on the Training set\n",
    "from sklearn.svm import SVC\n",
    "classifier = SVC(kernel = 'linear')\n",
    "classifier.fit(X_train, y_train)\n",
    "\n",
    "\n"
   ]
  },
  {
   "cell_type": "code",
   "execution_count": 19,
   "metadata": {},
   "outputs": [
    {
     "output_type": "stream",
     "name": "stdout",
     "text": [
      "[[1 1]\n [0 0]\n [1 1]\n ...\n [1 1]\n [0 1]\n [1 1]]\n[[6029   14]\n [ 207 7750]]\n98.42142857142858\n"
     ]
    }
   ],
   "source": [
    "\n",
    "# # Predicting the Test set results\n",
    "y_pred = classifier.predict(X_test)\n",
    "y_check = np.vstack((y_pred,y_test))\n",
    "y_check=y_check.transpose()\n",
    "np.savetxt(\"out_SVM.csv\", y_check,fmt='%10.0f')\n",
    "\n",
    "# # Making the Confusion Matrix\n",
    "from sklearn.metrics import confusion_matrix\n",
    "cm = confusion_matrix(y_test, y_pred)\n",
    "print(cm)\n",
    "rs=cm[0,0]+cm[1,1]\n",
    "all=cm[0,0]+cm[0,1]+cm[1,0]+cm[1,1]\n",
    "print(rs/all*100)\n"
   ]
  },
  {
   "cell_type": "code",
   "execution_count": null,
   "metadata": {},
   "outputs": [],
   "source": []
  }
 ]
}