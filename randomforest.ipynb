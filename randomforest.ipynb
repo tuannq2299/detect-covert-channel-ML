{
 "metadata": {
  "language_info": {
   "codemirror_mode": {
    "name": "ipython",
    "version": 3
   },
   "file_extension": ".py",
   "mimetype": "text/x-python",
   "name": "python",
   "nbconvert_exporter": "python",
   "pygments_lexer": "ipython3",
   "version": 3
  },
  "orig_nbformat": 2
 },
 "nbformat": 4,
 "nbformat_minor": 2,
 "cells": [
  {
   "cell_type": "code",
   "execution_count": null,
   "metadata": {},
   "outputs": [],
   "source": [
    "import numpy as np\n",
    "import pandas as pd  \n",
    "  \n",
    "#importing datasets  \n",
    "data_train = pd.read_csv('CSV_DUMP_1.csv')\n",
    "data_test = pd.read_csv('CSV_DUMP_2.csv')\n",
    "x_train = data_train.iloc[:, [1,2,3,4,5]].values\n",
    "y_train = data_train.iloc[:, 0].values \n",
    "\n",
    "x_test = data_test.iloc[:, [1,2,3,4,5]].values\n",
    "y_test = data_test.iloc[:, 0].values  \n",
    "  \n",
    "# Splitting the dataset into training and test set.  \n",
    "# from sklearn.model_selection import train_test_split  \n",
    "# x_train, x_test, y_train, y_test= train_test_split(x, y, test_size= 0.2, random_state=0)  \n",
    "# print(np.count_nonzero(y_train))\n",
    "# print(np.count_nonzero(y_test))\n",
    "\n",
    "#feature Scaling  \n",
    "from sklearn.preprocessing import StandardScaler    \n",
    "st_x= StandardScaler()    \n",
    "x_train= st_x.fit_transform(x_train)    \n",
    "x_test= st_x.transform(x_test)    \n",
    "\n",
    "# Training\n",
    "from sklearn.ensemble import RandomForestClassifier  \n",
    "classifier= RandomForestClassifier(n_estimators= 10, criterion=\"entropy\")  \n",
    "classifier.fit(x_train, y_train)  \n",
    "\n"
   ]
  },
  {
   "cell_type": "code",
   "execution_count": null,
   "metadata": {},
   "outputs": [],
   "source": [
    "#Predicting\n",
    "y_pred= classifier.predict(x_test)  \n",
    "y_check = np.vstack((y_pred,y_test))\n",
    "y_check=y_check.transpose()\n",
    "np.savetxt(\"out_RF.csv\", y_check,fmt='%10.0f')\n",
    "\n",
    "#Confusion_matrix\n",
    "from sklearn.metrics import confusion_matrix\n",
    "cm = confusion_matrix(y_test, y_pred)\n",
    "print(cm)"
   ]
  }
 ]
}